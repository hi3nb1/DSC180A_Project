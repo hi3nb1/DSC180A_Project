{
 "cells": [
  {
   "cell_type": "code",
   "execution_count": 1,
   "id": "5f758537",
   "metadata": {},
   "outputs": [],
   "source": [
    "import numpy as np\n",
    "import pandas as pd\n",
    "import matplotlib.pyplot as plt"
   ]
  },
  {
   "cell_type": "code",
   "execution_count": 2,
   "id": "b4d8b340",
   "metadata": {},
   "outputs": [],
   "source": [
    "lamb = 0.1\n",
    "v_list = np.arange(-0.5,0.5, 0.01)\n",
    "a_list = {\n",
    "    '(0.1, -0.1)': [0.1,-0.1],\n",
    "    '(0.1, -0.2)': [0.1,-0.2],\n",
    "    '(0.1, 0.2)': [0.1,0.2]\n",
    "}"
   ]
  },
  {
   "cell_type": "code",
   "execution_count": 3,
   "id": "bbb0c323",
   "metadata": {},
   "outputs": [],
   "source": [
    "def ucb_lin(d, lamb, n, a, v):\n",
    "    regret = []\n",
    "    optimal = max([v*a[0], v*a[1]])*n\n",
    "    \n",
    "    for j in range(100):\n",
    "        arm1_reward = []\n",
    "        arm2_reward = []\n",
    "        \n",
    "        delta = 1/n\n",
    "        emp_mean = 0\n",
    "        V = lamb\n",
    "        theta = 0\n",
    "        \n",
    "        for t in range(1,n+1):\n",
    "            beta = np.sqrt(lamb) + np.sqrt((2*np.log(1/delta)) + d * np.log((1+(t-1))/(delta*d)))\n",
    "            arms = [0]*len(a)\n",
    "            \n",
    "            for i in range(len(a)):\n",
    "                arms[i] = a[i]*theta + beta*np.sqrt((a[i]**2)*(1/V))\n",
    "            \n",
    "            if np.argmax(arms) == 0:\n",
    "                reward = v*a[0] + np.random.normal(0,1)\n",
    "                arm1_reward.append(reward)\n",
    "                V = V + a[0]**2\n",
    "                emp_mean = emp_mean + reward*a[0]\n",
    "                theta = (1/V) * emp_mean\n",
    "            else:\n",
    "                reward = v*a[1] + np.random.normal(0,1)\n",
    "                arm2_reward.append(reward)\n",
    "                V = V + a[1]**2\n",
    "                emp_mean = emp_mean + reward*a[1]\n",
    "                theta = (1/V) * emp_mean\n",
    "            \n",
    "        regret.append(optimal - (v*a[0]*len(arm1_reward)+v*a[1]*len(arm2_reward)))\n",
    "    return [np.mean(regret), np.var(regret)]"
   ]
  },
  {
   "cell_type": "code",
   "execution_count": 4,
   "id": "35777743",
   "metadata": {},
   "outputs": [],
   "source": [
    "output = pd.DataFrame()\n",
    "v_input = []\n",
    "a_input = []\n",
    "regret_input = []\n",
    "var_input = []\n",
    "for each in v_list:\n",
    "    for key,val in a_list.items():\n",
    "        v_input.append(each)\n",
    "        a_input.append(key)\n",
    "        result = ucb_lin(1, lamb, 1000, val, each)\n",
    "        regret_input.append(result[0])\n",
    "        var_input.append(result[1])\n",
    "        \n",
    "output['(a1, a2)'] = a_input\n",
    "output['v'] = v_input\n",
    "output['regret'] = regret_input\n",
    "output['variance'] = var_input"
   ]
  },
  {
   "cell_type": "code",
   "execution_count": 5,
   "id": "00d6cd03",
   "metadata": {},
   "outputs": [
    {
     "data": {
      "text/html": [
       "<div>\n",
       "<style scoped>\n",
       "    .dataframe tbody tr th:only-of-type {\n",
       "        vertical-align: middle;\n",
       "    }\n",
       "\n",
       "    .dataframe tbody tr th {\n",
       "        vertical-align: top;\n",
       "    }\n",
       "\n",
       "    .dataframe thead th {\n",
       "        text-align: right;\n",
       "    }\n",
       "</style>\n",
       "<table border=\"1\" class=\"dataframe\">\n",
       "  <thead>\n",
       "    <tr style=\"text-align: right;\">\n",
       "      <th></th>\n",
       "      <th>(a1, a2)</th>\n",
       "      <th>v</th>\n",
       "      <th>regret</th>\n",
       "      <th>variance</th>\n",
       "    </tr>\n",
       "  </thead>\n",
       "  <tbody>\n",
       "    <tr>\n",
       "      <th>0</th>\n",
       "      <td>(0.1, -0.1)</td>\n",
       "      <td>-0.50</td>\n",
       "      <td>17.04900</td>\n",
       "      <td>521.796099</td>\n",
       "    </tr>\n",
       "    <tr>\n",
       "      <th>1</th>\n",
       "      <td>(0.1, -0.2)</td>\n",
       "      <td>-0.50</td>\n",
       "      <td>0.84900</td>\n",
       "      <td>15.146649</td>\n",
       "    </tr>\n",
       "    <tr>\n",
       "      <th>2</th>\n",
       "      <td>(0.1, 0.2)</td>\n",
       "      <td>-0.50</td>\n",
       "      <td>49.80450</td>\n",
       "      <td>2.888105</td>\n",
       "    </tr>\n",
       "    <tr>\n",
       "      <th>3</th>\n",
       "      <td>(0.1, -0.1)</td>\n",
       "      <td>-0.49</td>\n",
       "      <td>15.87698</td>\n",
       "      <td>493.293420</td>\n",
       "    </tr>\n",
       "    <tr>\n",
       "      <th>4</th>\n",
       "      <td>(0.1, -0.2)</td>\n",
       "      <td>-0.49</td>\n",
       "      <td>0.38514</td>\n",
       "      <td>2.697572</td>\n",
       "    </tr>\n",
       "    <tr>\n",
       "      <th>...</th>\n",
       "      <td>...</td>\n",
       "      <td>...</td>\n",
       "      <td>...</td>\n",
       "      <td>...</td>\n",
       "    </tr>\n",
       "    <tr>\n",
       "      <th>295</th>\n",
       "      <td>(0.1, -0.2)</td>\n",
       "      <td>0.48</td>\n",
       "      <td>56.90016</td>\n",
       "      <td>1335.532363</td>\n",
       "    </tr>\n",
       "    <tr>\n",
       "      <th>296</th>\n",
       "      <td>(0.1, 0.2)</td>\n",
       "      <td>0.48</td>\n",
       "      <td>0.00000</td>\n",
       "      <td>0.000000</td>\n",
       "    </tr>\n",
       "    <tr>\n",
       "      <th>297</th>\n",
       "      <td>(0.1, -0.1)</td>\n",
       "      <td>0.49</td>\n",
       "      <td>17.99084</td>\n",
       "      <td>604.457739</td>\n",
       "    </tr>\n",
       "    <tr>\n",
       "      <th>298</th>\n",
       "      <td>(0.1, -0.2)</td>\n",
       "      <td>0.49</td>\n",
       "      <td>65.62962</td>\n",
       "      <td>1513.982905</td>\n",
       "    </tr>\n",
       "    <tr>\n",
       "      <th>299</th>\n",
       "      <td>(0.1, 0.2)</td>\n",
       "      <td>0.49</td>\n",
       "      <td>0.00000</td>\n",
       "      <td>0.000000</td>\n",
       "    </tr>\n",
       "  </tbody>\n",
       "</table>\n",
       "<p>300 rows × 4 columns</p>\n",
       "</div>"
      ],
      "text/plain": [
       "        (a1, a2)     v    regret     variance\n",
       "0    (0.1, -0.1) -0.50  17.04900   521.796099\n",
       "1    (0.1, -0.2) -0.50   0.84900    15.146649\n",
       "2     (0.1, 0.2) -0.50  49.80450     2.888105\n",
       "3    (0.1, -0.1) -0.49  15.87698   493.293420\n",
       "4    (0.1, -0.2) -0.49   0.38514     2.697572\n",
       "..           ...   ...       ...          ...\n",
       "295  (0.1, -0.2)  0.48  56.90016  1335.532363\n",
       "296   (0.1, 0.2)  0.48   0.00000     0.000000\n",
       "297  (0.1, -0.1)  0.49  17.99084   604.457739\n",
       "298  (0.1, -0.2)  0.49  65.62962  1513.982905\n",
       "299   (0.1, 0.2)  0.49   0.00000     0.000000\n",
       "\n",
       "[300 rows x 4 columns]"
      ]
     },
     "execution_count": 5,
     "metadata": {},
     "output_type": "execute_result"
    }
   ],
   "source": [
    "output"
   ]
  },
  {
   "cell_type": "code",
   "execution_count": 6,
   "id": "db26b078",
   "metadata": {},
   "outputs": [
    {
     "data": {
      "text/plain": [
       "<matplotlib.legend.Legend at 0x7f35f0e93b80>"
      ]
     },
     "execution_count": 6,
     "metadata": {},
     "output_type": "execute_result"
    },
    {
     "data": {
      "image/png": "[encoded data removed]",
      "text/plain": [
       "<Figure size 432x288 with 1 Axes>"
      ]
     },
     "metadata": {
      "needs_background": "light"
     },
     "output_type": "display_data"
    }
   ],
   "source": [
    "graph = output.groupby('(a1, a2)').agg({\n",
    "    'v': lambda x: list(x),\n",
    "    'regret': lambda x: list(x),\n",
    "    'variance': lambda x: list(x)\n",
    "}).reset_index()\n",
    "\n",
    "for each in graph.index:\n",
    "    plt.plot(graph.loc[each]['v'], graph.loc[each]['regret'], label=graph.loc[each]['(a1, a2)'])\n",
    "plt.legend()"
   ]
  },
  {
   "cell_type": "code",
   "execution_count": 7,
   "id": "d9ce0c52",
   "metadata": {},
   "outputs": [
    {
     "data": {
      "text/plain": [
       "<matplotlib.legend.Legend at 0x7f35eecabc10>"
      ]
     },
     "execution_count": 7,
     "metadata": {},
     "output_type": "execute_result"
    },
    {
     "data": {
      "image/png": "[encoded data removed]",
      "text/plain": [
       "<Figure size 432x288 with 1 Axes>"
      ]
     },
     "metadata": {
      "needs_background": "light"
     },
     "output_type": "display_data"
    }
   ],
   "source": [
    "for each in graph.index:\n",
    "    plt.plot(graph.loc[each]['v'], graph.loc[each]['variance'], label=graph.loc[each]['(a1, a2)'])\n",
    "plt.legend()"
   ]
  },
  {
   "cell_type": "code",
   "execution_count": null,
   "id": "1207cfd1",
   "metadata": {},
   "outputs": [],
   "source": []
  }
 ],
 "metadata": {
  "kernelspec": {
   "display_name": "Python 3 (ipykernel)",
   "language": "python",
   "name": "python3"
  },
  "language_info": {
   "codemirror_mode": {
    "name": "ipython",
    "version": 3
   },
   "file_extension": ".py",
   "mimetype": "text/x-python",
   "name": "python",
   "nbconvert_exporter": "python",
   "pygments_lexer": "ipython3",
   "version": "3.9.5"
  }
 },
 "nbformat": 4,
 "nbformat_minor": 5
}
