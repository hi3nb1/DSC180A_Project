{
 "cells": [
  {
   "cell_type": "code",
   "execution_count": 44,
   "id": "40211ee0",
   "metadata": {},
   "outputs": [],
   "source": [
    "import pandas as pd\n",
    "import numpy as np\n",
    "import matplotlib.pyplot as plt"
   ]
  },
  {
   "cell_type": "code",
   "execution_count": 45,
   "id": "df55e0e2",
   "metadata": {},
   "outputs": [],
   "source": [
    "v_list = np.arange(-0.5,0.5,0.01)\n",
    "a_list = {\n",
    "    '(0.1, -0.1)': [0.1,-0.1],\n",
    "    '(0.1, -0.2)': [0.1,-0.2],\n",
    "    '(0.1, 0.2)': [0.1,0.2]\n",
    "}"
   ]
  },
  {
   "cell_type": "code",
   "execution_count": 46,
   "id": "c0de8935",
   "metadata": {},
   "outputs": [],
   "source": [
    "def thomspson_lin(means, n, v, prior=[0,1]):\n",
    "    regret = []\n",
    "    optimal = v*max(means) * n\n",
    "    \n",
    "    for i in range(100):\n",
    "        arm1_reward = []\n",
    "        arm2_reward = []\n",
    "        post = prior.copy()\n",
    "        \n",
    "        for j in range(1,n+1):\n",
    "            theta = np.random.normal(post[0], np.sqrt(post[1]))\n",
    "            a_list = [theta * each for each in means]\n",
    "            reward = v*means[np.argmax(a_list)] + np.random.normal(0,1)\n",
    "            if np.argmax(a_list) == 0:\n",
    "                arm1_reward.append(reward)\n",
    "            else:\n",
    "                arm2_reward.append(reward)\n",
    "            \n",
    "            post[0] = 1/((1/post[1]) + means[np.argmax(a_list)]**2) * ((1/post[1])*theta + reward*means[np.argmax(a_list)])\n",
    "            post[1] = 1/((1/post[1]) + means[np.argmax(a_list)]**2)\n",
    "            \n",
    "        regret.append(optimal - (v*means[0]*len(arm1_reward)+v*means[1]*len(arm2_reward)))\n",
    "    return [np.mean(regret), np.var(regret)]"
   ]
  },
  {
   "cell_type": "code",
   "execution_count": 47,
   "id": "39ece736",
   "metadata": {
    "scrolled": true
   },
   "outputs": [],
   "source": [
    "output = pd.DataFrame()\n",
    "v_input = []\n",
    "a_input = []\n",
    "regret_input = []\n",
    "var_input = []\n",
    "for each in v_list:\n",
    "    for key,val in a_list.items():\n",
    "        v_input.append(each)\n",
    "        a_input.append(key)\n",
    "        result = thomspson_lin(val, 1000, each)\n",
    "        regret_input.append(result[0])\n",
    "        var_input.append(result[1])\n",
    "        \n",
    "output['(a1, a2)'] = a_input\n",
    "output['v'] = v_input\n",
    "output['regret'] = regret_input\n",
    "output['variance'] = var_input"
   ]
  },
  {
   "cell_type": "code",
   "execution_count": 48,
   "id": "58041ad7",
   "metadata": {
    "scrolled": true
   },
   "outputs": [
    {
     "data": {
      "text/html": [
       "<div>\n",
       "<style scoped>\n",
       "    .dataframe tbody tr th:only-of-type {\n",
       "        vertical-align: middle;\n",
       "    }\n",
       "\n",
       "    .dataframe tbody tr th {\n",
       "        vertical-align: top;\n",
       "    }\n",
       "\n",
       "    .dataframe thead th {\n",
       "        text-align: right;\n",
       "    }\n",
       "</style>\n",
       "<table border=\"1\" class=\"dataframe\">\n",
       "  <thead>\n",
       "    <tr style=\"text-align: right;\">\n",
       "      <th></th>\n",
       "      <th>(a1, a2)</th>\n",
       "      <th>v</th>\n",
       "      <th>regret</th>\n",
       "      <th>variance</th>\n",
       "    </tr>\n",
       "  </thead>\n",
       "  <tbody>\n",
       "    <tr>\n",
       "      <th>0</th>\n",
       "      <td>(0.1, -0.1)</td>\n",
       "      <td>-0.50</td>\n",
       "      <td>-50.22200</td>\n",
       "      <td>819.151116</td>\n",
       "    </tr>\n",
       "    <tr>\n",
       "      <th>1</th>\n",
       "      <td>(0.1, -0.2)</td>\n",
       "      <td>-0.50</td>\n",
       "      <td>-75.88950</td>\n",
       "      <td>2155.435765</td>\n",
       "    </tr>\n",
       "    <tr>\n",
       "      <th>2</th>\n",
       "      <td>(0.1, 0.2)</td>\n",
       "      <td>-0.50</td>\n",
       "      <td>-30.96700</td>\n",
       "      <td>181.692561</td>\n",
       "    </tr>\n",
       "    <tr>\n",
       "      <th>3</th>\n",
       "      <td>(0.1, -0.1)</td>\n",
       "      <td>-0.49</td>\n",
       "      <td>-55.40528</td>\n",
       "      <td>892.323490</td>\n",
       "    </tr>\n",
       "    <tr>\n",
       "      <th>4</th>\n",
       "      <td>(0.1, -0.2)</td>\n",
       "      <td>-0.49</td>\n",
       "      <td>-69.61038</td>\n",
       "      <td>2303.070979</td>\n",
       "    </tr>\n",
       "    <tr>\n",
       "      <th>...</th>\n",
       "      <td>...</td>\n",
       "      <td>...</td>\n",
       "      <td>...</td>\n",
       "      <td>...</td>\n",
       "    </tr>\n",
       "    <tr>\n",
       "      <th>295</th>\n",
       "      <td>(0.1, -0.2)</td>\n",
       "      <td>0.48</td>\n",
       "      <td>69.93072</td>\n",
       "      <td>1934.438487</td>\n",
       "    </tr>\n",
       "    <tr>\n",
       "      <th>296</th>\n",
       "      <td>(0.1, 0.2)</td>\n",
       "      <td>0.48</td>\n",
       "      <td>24.16752</td>\n",
       "      <td>202.061698</td>\n",
       "    </tr>\n",
       "    <tr>\n",
       "      <th>297</th>\n",
       "      <td>(0.1, -0.1)</td>\n",
       "      <td>0.49</td>\n",
       "      <td>41.81072</td>\n",
       "      <td>844.242985</td>\n",
       "    </tr>\n",
       "    <tr>\n",
       "      <th>298</th>\n",
       "      <td>(0.1, -0.2)</td>\n",
       "      <td>0.49</td>\n",
       "      <td>66.88500</td>\n",
       "      <td>2103.405366</td>\n",
       "    </tr>\n",
       "    <tr>\n",
       "      <th>299</th>\n",
       "      <td>(0.1, 0.2)</td>\n",
       "      <td>0.49</td>\n",
       "      <td>21.64869</td>\n",
       "      <td>230.684176</td>\n",
       "    </tr>\n",
       "  </tbody>\n",
       "</table>\n",
       "<p>300 rows × 4 columns</p>\n",
       "</div>"
      ],
      "text/plain": [
       "        (a1, a2)     v    regret     variance\n",
       "0    (0.1, -0.1) -0.50 -50.22200   819.151116\n",
       "1    (0.1, -0.2) -0.50 -75.88950  2155.435765\n",
       "2     (0.1, 0.2) -0.50 -30.96700   181.692561\n",
       "3    (0.1, -0.1) -0.49 -55.40528   892.323490\n",
       "4    (0.1, -0.2) -0.49 -69.61038  2303.070979\n",
       "..           ...   ...       ...          ...\n",
       "295  (0.1, -0.2)  0.48  69.93072  1934.438487\n",
       "296   (0.1, 0.2)  0.48  24.16752   202.061698\n",
       "297  (0.1, -0.1)  0.49  41.81072   844.242985\n",
       "298  (0.1, -0.2)  0.49  66.88500  2103.405366\n",
       "299   (0.1, 0.2)  0.49  21.64869   230.684176\n",
       "\n",
       "[300 rows x 4 columns]"
      ]
     },
     "execution_count": 48,
     "metadata": {},
     "output_type": "execute_result"
    }
   ],
   "source": [
    "output"
   ]
  },
  {
   "cell_type": "code",
   "execution_count": 49,
   "id": "41a0cd8c",
   "metadata": {},
   "outputs": [
    {
     "data": {
      "text/plain": [
       "<matplotlib.legend.Legend at 0x7fda53435460>"
      ]
     },
     "execution_count": 49,
     "metadata": {},
     "output_type": "execute_result"
    },
    {
     "data": {
      "image/png": "[encoded data removed]",
      "text/plain": [
       "<Figure size 432x288 with 1 Axes>"
      ]
     },
     "metadata": {
      "needs_background": "light"
     },
     "output_type": "display_data"
    }
   ],
   "source": [
    "graph = output.groupby('(a1, a2)').agg({\n",
    "    'v': lambda x: list(x),\n",
    "    'regret': lambda x: list(x),\n",
    "    'variance': lambda x: list(x)\n",
    "}).reset_index()\n",
    "\n",
    "for each in graph.index:\n",
    "    plt.plot(graph.loc[each]['v'], graph.loc[each]['regret'], label=graph.loc[each]['(a1, a2)'])\n",
    "plt.legend()"
   ]
  },
  {
   "cell_type": "code",
   "execution_count": 50,
   "id": "3c069ade",
   "metadata": {},
   "outputs": [
    {
     "data": {
      "text/plain": [
       "<matplotlib.legend.Legend at 0x7fd9ac5a3850>"
      ]
     },
     "execution_count": 50,
     "metadata": {},
     "output_type": "execute_result"
    },
    {
     "data": {
      "image/png": "[encoded data removed]",
      "text/plain": [
       "<Figure size 432x288 with 1 Axes>"
      ]
     },
     "metadata": {
      "needs_background": "light"
     },
     "output_type": "display_data"
    }
   ],
   "source": [
    "for each in graph.index:\n",
    "    plt.plot(graph.loc[each]['v'], graph.loc[each]['variance'], label=graph.loc[each]['(a1, a2)'])\n",
    "plt.legend()"
   ]
  },
  {
   "cell_type": "code",
   "execution_count": null,
   "id": "3768563b",
   "metadata": {},
   "outputs": [],
   "source": []
  }
 ],
 "metadata": {
  "kernelspec": {
   "display_name": "Python 3 (ipykernel)",
   "language": "python",
   "name": "python3"
  },
  "language_info": {
   "codemirror_mode": {
    "name": "ipython",
    "version": 3
   },
   "file_extension": ".py",
   "mimetype": "text/x-python",
   "name": "python",
   "nbconvert_exporter": "python",
   "pygments_lexer": "ipython3",
   "version": "3.9.13"
  }
 },
 "nbformat": 4,
 "nbformat_minor": 5
}
